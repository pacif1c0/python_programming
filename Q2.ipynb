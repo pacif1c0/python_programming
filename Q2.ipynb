{
 "cells": [
  {
   "cell_type": "code",
   "execution_count": 6,
   "id": "6a252b80",
   "metadata": {},
   "outputs": [
    {
     "name": "stdout",
     "output_type": "stream",
     "text": [
      "4\n",
      "20\n"
     ]
    }
   ],
   "source": [
    "# Q2 Answer template\n",
    "\n",
    "N = int(input())\n",
    "count = 0\n",
    "curr_val = N\n",
    "\n",
    "while True:\n",
    "    new_val = ((curr_val % 10) * 10) + ((curr_val // 10 + curr_val % 10) % 10)\n",
    "    count += 1\n",
    "    \n",
    "    if new_val == N:\n",
    "        break\n",
    "    else:\n",
    "        curr_val = new_val\n",
    "    \n",
    "print(count)"
   ]
  },
  {
   "cell_type": "code",
   "execution_count": null,
   "id": "d051fdd8",
   "metadata": {},
   "outputs": [],
   "source": []
  }
 ],
 "metadata": {
  "kernelspec": {
   "display_name": "Python 3 (ipykernel)",
   "language": "python",
   "name": "python3"
  },
  "language_info": {
   "codemirror_mode": {
    "name": "ipython",
    "version": 3
   },
   "file_extension": ".py",
   "mimetype": "text/x-python",
   "name": "python",
   "nbconvert_exporter": "python",
   "pygments_lexer": "ipython3",
   "version": "3.9.13"
  }
 },
 "nbformat": 4,
 "nbformat_minor": 5
}
